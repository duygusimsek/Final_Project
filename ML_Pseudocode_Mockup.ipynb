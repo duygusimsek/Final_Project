{
 "cells": [
  {
   "cell_type": "code",
   "execution_count": null,
   "id": "6547ee63",
   "metadata": {},
   "outputs": [],
   "source": [
    "# 1) Import dependencies"
   ]
  },
  {
   "cell_type": "code",
   "execution_count": null,
   "id": "d6724730",
   "metadata": {},
   "outputs": [],
   "source": [
    "# 2) Read in our AAPL.csv file, which includes:\n",
    "    # a) Date, which we decided to do by month; \n",
    "    # b) Open market price;\n",
    "    # c) High, the highest price at which a stock is traded during a period;\n",
    "    # d) Low, the lowest price at which a stock is traded during a period;\n",
    "    # e) Close, the end of a trading session when the market closes or the raw price;\n",
    "    # f) Adjusted close, the adjusted market price after the market closes \n",
    "        # (includes any factors that may affect price)\n",
    "    # g) and Volume, the number of shares traded"
   ]
  },
  {
   "cell_type": "code",
   "execution_count": null,
   "id": "6a26a513",
   "metadata": {},
   "outputs": [],
   "source": [
    "# 3) Clean the data by removing any possible null values "
   ]
  },
  {
   "cell_type": "code",
   "execution_count": null,
   "id": "0fd19844",
   "metadata": {},
   "outputs": [],
   "source": [
    "# 4) After cleaning, define our x and y variables"
   ]
  },
  {
   "cell_type": "code",
   "execution_count": null,
   "id": "bc97c900",
   "metadata": {},
   "outputs": [],
   "source": [
    "# 5) Define our training and testing models using X_train, X_test, y_train, and y_test; use train_test_split\n",
    "    # We are focusing mainly on the Close to help us predict the Apple stock market trend for the next month\n",
    "    # Therefore, y = date, x = Close"
   ]
  },
  {
   "cell_type": "code",
   "execution_count": 1,
   "id": "099c89d7",
   "metadata": {},
   "outputs": [],
   "source": [
    "# 6) Fit the model with the training data"
   ]
  },
  {
   "cell_type": "code",
   "execution_count": 2,
   "id": "53caac44",
   "metadata": {},
   "outputs": [],
   "source": [
    "# 7) Find the coefficients to help determine a possible increase or decrease"
   ]
  },
  {
   "cell_type": "code",
   "execution_count": 3,
   "id": "4d5a7f17",
   "metadata": {},
   "outputs": [],
   "source": [
    "# 8) Predict target on training dataset"
   ]
  },
  {
   "cell_type": "code",
   "execution_count": null,
   "id": "64c5dc33",
   "metadata": {},
   "outputs": [],
   "source": [
    "# 9) Predict target on testing dataset"
   ]
  }
 ],
 "metadata": {
  "kernelspec": {
   "display_name": "mlenv",
   "language": "python",
   "name": "mlenv"
  },
  "language_info": {
   "codemirror_mode": {
    "name": "ipython",
    "version": 3
   },
   "file_extension": ".py",
   "mimetype": "text/x-python",
   "name": "python",
   "nbconvert_exporter": "python",
   "pygments_lexer": "ipython3",
   "version": "3.7.13"
  }
 },
 "nbformat": 4,
 "nbformat_minor": 5
}
